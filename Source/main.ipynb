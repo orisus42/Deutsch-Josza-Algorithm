{
 "cells": [
  {
   "cell_type": "markdown",
   "id": "84b7c66d",
   "metadata": {},
   "source": [
    "# Efficient implementation of the Deutsch-Josza algorithm for quantum computing\n",
    "First, we check whether the python version on our environment is >= 3.10 to make sure that it is compatible with the Qiskit version we will be using to simulate this."
   ]
  },
  {
   "cell_type": "code",
   "execution_count": 4,
   "id": "dd2dccc2",
   "metadata": {},
   "outputs": [
    {
     "name": "stdout",
     "output_type": "stream",
     "text": [
      "Python version = 3.13.1\n"
     ]
    }
   ],
   "source": [
    "from platform import python_version\n",
    "print(f\"Python version = {python_version()}\")"
   ]
  },
  {
   "cell_type": "markdown",
   "id": "410543bd",
   "metadata": {},
   "source": [
    "Installing Qiskit which must have a newer or version equivalent to 2.0.0"
   ]
  },
  {
   "cell_type": "code",
   "execution_count": 5,
   "id": "9eb62765",
   "metadata": {},
   "outputs": [
    {
     "name": "stdout",
     "output_type": "stream",
     "text": [
      "Qiskit version = 2.1.1\n"
     ]
    }
   ],
   "source": [
    "import qiskit\n",
    "print(f\"Qiskit version = {qiskit.__version__}\")"
   ]
  },
  {
   "cell_type": "code",
   "execution_count": 6,
   "id": "8be7025e",
   "metadata": {},
   "outputs": [],
   "source": [
    "import matplotlib.pyplot as plt\n",
    "\n",
    "from qiskit import QuantumCircuit, generate_preset_pass_manager\n",
    "from qiskit.visualization import plot_histogram\n",
    "from qiskit.quantum_info import SparsePauliOp\n",
    "\n",
    "from qiskit_ibm_runtime import SamplerV2 as Sampler, EstimatorV2 as Estimator\n",
    "\n",
    "from qiskit_aer import AerSimulator"
   ]
  }
 ],
 "metadata": {
  "kernelspec": {
   "display_name": "Deutsch-Josza (3.13.1)",
   "language": "python",
   "name": "python3"
  },
  "language_info": {
   "codemirror_mode": {
    "name": "ipython",
    "version": 3
   },
   "file_extension": ".py",
   "mimetype": "text/x-python",
   "name": "python",
   "nbconvert_exporter": "python",
   "pygments_lexer": "ipython3",
   "version": "3.13.1"
  }
 },
 "nbformat": 4,
 "nbformat_minor": 5
}
