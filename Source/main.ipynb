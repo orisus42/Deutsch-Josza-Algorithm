{
 "cells": [
  {
   "cell_type": "code",
   "execution_count": 1230,
   "id": "dd2dccc2",
   "metadata": {},
   "outputs": [
    {
     "name": "stdout",
     "output_type": "stream",
     "text": [
      "Python version = 3.13.1\n"
     ]
    }
   ],
   "source": [
    "from platform import python_version\n",
    "print(f\"Python version = {python_version()}\")"
   ]
  },
  {
   "cell_type": "code",
   "execution_count": 1231,
   "id": "9eb62765",
   "metadata": {},
   "outputs": [
    {
     "name": "stdout",
     "output_type": "stream",
     "text": [
      "Qiskit version = 2.1.1\n"
     ]
    }
   ],
   "source": [
    "import qiskit\n",
    "print(f\"Qiskit version = {qiskit.__version__}\")"
   ]
  },
  {
   "cell_type": "code",
   "execution_count": 1232,
   "id": "8be7025e",
   "metadata": {},
   "outputs": [],
   "source": [
    "import matplotlib.pyplot as plt\n",
    "import numpy as np\n",
    "\n",
    "# from qiskit import QuantumCircuit, generate_preset_pass_manager\n",
    "# from qiskit.visualization import plot_histogram\n",
    "# from qiskit.quantum_info import SparsePauliOp\n",
    "\n",
    "# from qiskit_ibm_runtime import SamplerV2 as Sampler, EstimatorV2 as Estimator\n",
    "# from qiskit_aer import AerSimulator"
   ]
  },
  {
   "cell_type": "code",
   "execution_count": 1233,
   "id": "7c70a001",
   "metadata": {},
   "outputs": [],
   "source": [
    "const_seed = None\n",
    "split_seed = None\n",
    "bb_seed = None"
   ]
  },
  {
   "cell_type": "code",
   "execution_count": 1234,
   "id": "db47eecc",
   "metadata": {},
   "outputs": [],
   "source": [
    "class BlackBox:\n",
    "    bits = 0\n",
    "    zset = None\n",
    "    split_rng = None\n",
    "    const_rng = None\n",
    "    bb_rng = None\n",
    "\n",
    "    def __init__(self, n, split_seed=None, const_seed=None, bb_seed=None):\n",
    "        self.bits = n\n",
    "        self.split_rng = np.random.default_rng(split_seed)\n",
    "        self.const_rng = np.random.default_rng(const_seed).integers(low=0, high=2, dtype=np.uint8)\n",
    "        self.bb_rng = np.random.default_rng(bb_seed).integers(low=0, high=2, dtype=np.uint8)\n",
    "        self.zset = self._generate_zset(n)\n",
    "\n",
    "    def invoke(self, bitstring):\n",
    "        if len(bitstring) != self.bits:\n",
    "            return \"Number of bits in the bitstring does not match the number of bits initialized.\"\n",
    "\n",
    "        for bit in bitstring:\n",
    "            if bit not in [\"0\", \"1\"]:\n",
    "                return \"Invalid bitstring provided.\"\n",
    "\n",
    "        if self.bb_rng:\n",
    "            value = self._constant_function(self.const_rng)\n",
    "        else:\n",
    "            value = self._balanced_function(bitstring, self.zset)\n",
    "\n",
    "        return value\n",
    "    \n",
    "    def _generate_zset(self, n):\n",
    "        zset = set(())\n",
    "\n",
    "        while len(zset) < np.power(2, n-1):\n",
    "            number = self.split_rng.integers(low=0, high=np.power(2, n), dtype=np.uint64)\n",
    "            zset.add(number)\n",
    "            \n",
    "        return zset\n",
    "    \n",
    "    def _constant_function(self, ret_val):\n",
    "        return ret_val\n",
    "\n",
    "    def _balanced_function(self, bitstring, zset):\n",
    "        num = int(bitstring, 2)\n",
    "        if np.uint64(num) in zset:\n",
    "            return 0\n",
    "        else:\n",
    "            return 1"
   ]
  },
  {
   "cell_type": "code",
   "execution_count": null,
   "id": "c29aa91f",
   "metadata": {},
   "outputs": [
    {
     "name": "stdout",
     "output_type": "stream",
     "text": [
      "1\n",
      "1\n",
      "1\n",
      "1\n",
      "1\n",
      "1\n",
      "1\n",
      "1\n",
      "1\n",
      "1\n"
     ]
    }
   ],
   "source": [
    "black_box = BlackBox(5)\n",
    "answer = black_box.invoke(\"10101\")\n",
    "print(answer)"
   ]
  }
 ],
 "metadata": {
  "kernelspec": {
   "display_name": "Deutsch-Josza (3.13.1)",
   "language": "python",
   "name": "python3"
  },
  "language_info": {
   "codemirror_mode": {
    "name": "ipython",
    "version": 3
   },
   "file_extension": ".py",
   "mimetype": "text/x-python",
   "name": "python",
   "nbconvert_exporter": "python",
   "pygments_lexer": "ipython3",
   "version": "3.13.1"
  }
 },
 "nbformat": 4,
 "nbformat_minor": 5
}
